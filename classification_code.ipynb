{
 "cells": [
  {
   "attachments": {},
   "cell_type": "markdown",
   "metadata": {},
   "source": [
    "# DATA SETUP"
   ]
  },
  {
   "cell_type": "code",
   "execution_count": 213,
   "metadata": {},
   "outputs": [],
   "source": [
    "import pandas as pd\n",
    "import re\n",
    "import json"
   ]
  },
  {
   "attachments": {},
   "cell_type": "markdown",
   "metadata": {},
   "source": [
    "# IMPORT, CREATE DF AND LIST"
   ]
  },
  {
   "cell_type": "code",
   "execution_count": 214,
   "metadata": {},
   "outputs": [
    {
     "data": {
      "text/html": [
       "<div>\n",
       "<style scoped>\n",
       "    .dataframe tbody tr th:only-of-type {\n",
       "        vertical-align: middle;\n",
       "    }\n",
       "\n",
       "    .dataframe tbody tr th {\n",
       "        vertical-align: top;\n",
       "    }\n",
       "\n",
       "    .dataframe thead th {\n",
       "        text-align: right;\n",
       "    }\n",
       "</style>\n",
       "<table border=\"1\" class=\"dataframe\">\n",
       "  <thead>\n",
       "    <tr style=\"text-align: right;\">\n",
       "      <th></th>\n",
       "      <th>Category</th>\n",
       "      <th>Class</th>\n",
       "      <th>Key words</th>\n",
       "    </tr>\n",
       "  </thead>\n",
       "  <tbody>\n",
       "    <tr>\n",
       "      <th>0</th>\n",
       "      <td>CLA type</td>\n",
       "      <td>Concluded on national level</td>\n",
       "      <td>Conseil national du travail</td>\n",
       "    </tr>\n",
       "    <tr>\n",
       "      <th>1</th>\n",
       "      <td>CLA type</td>\n",
       "      <td>Concluded on national level</td>\n",
       "      <td>www.cnt-nar.be</td>\n",
       "    </tr>\n",
       "    <tr>\n",
       "      <th>2</th>\n",
       "      <td>CLA type</td>\n",
       "      <td>Concluded on industry level</td>\n",
       "      <td>NaN</td>\n",
       "    </tr>\n",
       "    <tr>\n",
       "      <th>3</th>\n",
       "      <td>CLA status</td>\n",
       "      <td>New</td>\n",
       "      <td>NaN</td>\n",
       "    </tr>\n",
       "    <tr>\n",
       "      <th>4</th>\n",
       "      <td>CLA status</td>\n",
       "      <td>Update</td>\n",
       "      <td>erratum</td>\n",
       "    </tr>\n",
       "    <tr>\n",
       "      <th>5</th>\n",
       "      <td>CLA status</td>\n",
       "      <td>Update</td>\n",
       "      <td>correction</td>\n",
       "    </tr>\n",
       "    <tr>\n",
       "      <th>6</th>\n",
       "      <td>CLA status</td>\n",
       "      <td>Update</td>\n",
       "      <td>modifié</td>\n",
       "    </tr>\n",
       "    <tr>\n",
       "      <th>7</th>\n",
       "      <td>Sector</td>\n",
       "      <td>INDUSTRIE DES CARRIERES</td>\n",
       "      <td>CARRIERES</td>\n",
       "    </tr>\n",
       "    <tr>\n",
       "      <th>8</th>\n",
       "      <td>Sector</td>\n",
       "      <td>INDUSTRIE DE LA RECUPERATION</td>\n",
       "      <td>RECUPERATION</td>\n",
       "    </tr>\n",
       "    <tr>\n",
       "      <th>9</th>\n",
       "      <td>Sector</td>\n",
       "      <td>INDUSTRIE SIDERURGIQUE</td>\n",
       "      <td>SIDERURGIQUE</td>\n",
       "    </tr>\n",
       "  </tbody>\n",
       "</table>\n",
       "</div>"
      ],
      "text/plain": [
       "     Category                         Class                    Key words\n",
       "0    CLA type   Concluded on national level  Conseil national du travail\n",
       "1    CLA type   Concluded on national level               www.cnt-nar.be\n",
       "2    CLA type   Concluded on industry level                          NaN\n",
       "3  CLA status                           New                          NaN\n",
       "4  CLA status                        Update                      erratum\n",
       "5  CLA status                        Update                   correction\n",
       "6  CLA status                        Update                      modifié\n",
       "7      Sector       INDUSTRIE DES CARRIERES                    CARRIERES\n",
       "8      Sector  INDUSTRIE DE LA RECUPERATION                 RECUPERATION\n",
       "9      Sector        INDUSTRIE SIDERURGIQUE                 SIDERURGIQUE"
      ]
     },
     "execution_count": 214,
     "metadata": {},
     "output_type": "execute_result"
    }
   ],
   "source": [
    "#import the classification table\n",
    "df_mapping = pd.read_excel('Classification_excel.xlsx', index_col=None)\n",
    "# df_mapping['Key words'] = df_mapping['Key words'].replace(['Conseil national du travail'], 'collective de travail')\n",
    "df_mapping.head(10)\n"
   ]
  },
  {
   "cell_type": "code",
   "execution_count": 215,
   "metadata": {},
   "outputs": [],
   "source": [
    "#Create df for each of the 4 categories\n",
    "\n",
    "df_type = df_mapping.loc[df_mapping['Category'] == 'CLA type']\n",
    "df_status = df_mapping.loc[df_mapping['Category'] == 'CLA status']\n",
    "df_sector = df_mapping.loc[df_mapping['Category'] == 'Sector']\n",
    "df_theme = df_mapping.loc[df_mapping['Category'] == 'Theme']"
   ]
  },
  {
   "cell_type": "code",
   "execution_count": 216,
   "metadata": {},
   "outputs": [
    {
     "data": {
      "text/plain": [
       "'Concluded on industry level'"
      ]
     },
     "execution_count": 216,
     "metadata": {},
     "output_type": "execute_result"
    }
   ],
   "source": [
    "class_type_label_ind = df_type.loc[df_type['Key words'].isnull(), 'Class'].to_string(index=False)\n",
    "class_type_label_ind"
   ]
  },
  {
   "cell_type": "code",
   "execution_count": 217,
   "metadata": {},
   "outputs": [
    {
     "name": "stdout",
     "output_type": "stream",
     "text": [
      "['Concluded on industry level']\n",
      "['Concluded on industry level', 'New']\n"
     ]
    }
   ],
   "source": [
    "# Create a dictionary for each pdf including the PDF number/the class for every category\n",
    "pdf_class = []\n",
    "pdf_txt = open('fr_014376.txt', 'r')\n",
    "pdf_words = pdf_txt.read()\n",
    "\n",
    "# Add the type to the list pdf_class\n",
    "class_type_label_cnt = df_type.loc[df_type['Key words'] == \"Conseil national du travail\", 'Class'].to_string(index=False)\n",
    "class_type_label_ind = df_type.loc[df_type['Key words'].isnull(), 'Class'].to_string(index=False)\n",
    "\n",
    "elements = df_type[\"Key words\"].dropna().tolist()\n",
    "for elem in elements :\n",
    "    if elem in pdf_words:\n",
    "        if class_type_label_cnt not in pdf_class :\n",
    "            pdf_class.append(class_type_label_cnt)\n",
    "            break\n",
    "    else : \n",
    "        if class_type_label_ind not in pdf_class :\n",
    "            pdf_class.append(class_type_label_ind)\n",
    "\n",
    "print(pdf_class)\n",
    "\n",
    "# Add the status to the list pdf_class\n",
    "class_status_label_update = df_status.loc[df_status['Key words'] == \"erratum\", 'Class'].to_string(index=False)\n",
    "class_status_label_new = df_status.loc[df_status['Key words'].isnull(), 'Class'].to_string(index=False)\n",
    "\n",
    "elements = df_status[\"Key words\"].dropna().tolist()\n",
    "for elem in elements :\n",
    "    if elem in pdf_words:\n",
    "        if class_status_label_update not in pdf_class :\n",
    "            pdf_class.append(class_status_label_update)\n",
    "            break\n",
    "    else : \n",
    "        if class_status_label_new not in pdf_class :\n",
    "            pdf_class.append(class_status_label_new)\n",
    "\n",
    "print(pdf_class)\n",
    "\n",
    "# Add the sector to the list pdf_class\n",
    "class_sector_label_update = df_sector.loc[df_sector['Key words'] == \"erratum\", 'Class'].to_string(index=False)\n",
    "class_sector_label_new = df_sector.loc[df_sector['Key words'].isnull(), 'Class'].to_string(index=False)\n",
    "\n",
    "elements = df_sector[\"Key words\"].dropna().tolist()\n",
    "for elem in elements :\n",
    "    if elem in pdf_words:\n",
    "        if class_sector_label_update not in pdf_class :\n",
    "            pdf_class.append(class_sector_label_update)\n",
    "            break\n",
    "    else : \n",
    "        if class_sector_label_new not in pdf_class :\n",
    "            pdf_class.append(class_sector_label_new)\n",
    "\n",
    "print(pdf_class)\n",
    "\n"
   ]
  },
  {
   "cell_type": "code",
   "execution_count": 218,
   "metadata": {},
   "outputs": [
    {
     "data": {
      "text/plain": [
       "\"Neerlegging-Dépét: 13/11/2019\\nRegist.-Enregistr.: 25/11/2019\\n\\nN* 155534/CO/100\\n\\nCommission paritaire auxiliaire pour\\nouvriers (CP 100)\\n\\nConvention collective de travail du\\n13 novembre 2019 portant définition des\\ngroupes a risque\\n\\n“Article 1\\n\\nLa présente convention collective de travail\\ns’applique aux employeurs et aux ouvriers\\ndes entreprises ressortissant a la\\ncompétence de la commission paritaire\\nauxiliaire pour ouvriers. Par « ouvriers », on\\nentend les ouvriers masculins et féminins.\\n\\nArticle 2\\n\\nEn exécution des articles 188 a 191 dela\\nloi du 27 décembre 2006 portant des\\ndispositions diverses (I) (MB 29/12/2006)\\nrelatifs 4 la détermination des groupes a\\nrisque, il faut entendre par groupes a risque\\n\\no Les travailleurs dont les\\nqualifications ne sont pas ou\\nrisquent de ne plus étre\\nadaptées aux exigences des\\nnouvelles technologies, dont\\nen particulier les personnes\\nfaiblement qualifiées\\n\\no Les demandeurs d'emploi en\\ngénéral et les demandeurs\\nd'emploi de moins de 30 ans\\nen particulier\\n\\no Les travailleurs menacés par\\nune restructuration, un\\nlicenciement collectif ou une\\nfermeture d’entreprise.\\n\\nArticle 3\\n\\nEn application de I'Arrété royal du 19 février\\n2013 pris en exécution de l'article 189,\\nalinéa 4, de la loi du 27 décembre 2006\\nportant des dispositions diverses (I) (1), il\\nfaut entendre par groupes a risque en\\nfaveur desquels les employeurs doivent\\nréserver 0,05% de la masse salariale les\\ngroupes a risque définis a l'article 1 de\\nl'Arrété royal susmentionné et il faut\\nentendre par groupes a risque en faveur\\ndesquels les employeurs doivent réserver\\nla moitié de cet effort, soit 0,025% de la\\n\\n\""
      ]
     },
     "execution_count": 218,
     "metadata": {},
     "output_type": "execute_result"
    }
   ],
   "source": [
    "pdf_words"
   ]
  },
  {
   "cell_type": "code",
   "execution_count": 219,
   "metadata": {},
   "outputs": [],
   "source": [
    "key_words = df_mapping['Key words'].to_list()\n",
    "del key_words[2:4]\n",
    "\n",
    "with open(\"KPMG.json\") as f:\n",
    "    pdf = json.loads(f.read())\n",
    "\n",
    "keys = []\n",
    "for i in key_words:\n",
    "    for j in list(pdf.values()):\n",
    "        if re.compile(r'\\b({0})\\b'.format(i), flags=re.IGNORECASE).search(j):\n",
    "            if i not in keys:\n",
    "                keys.append(i)"
   ]
  },
  {
   "cell_type": "code",
   "execution_count": 220,
   "metadata": {},
   "outputs": [
    {
     "data": {
      "text/plain": [
       "['erratum',\n",
       " 'correction',\n",
       " 'modifié',\n",
       " 'TUYAUX',\n",
       " 'BRIQUES',\n",
       " 'ALIMENTAIRE',\n",
       " 'CONSTRUCTION',\n",
       " 'BOIS',\n",
       " 'Petit chômage',\n",
       " 'Congé pour raisons impérieuses',\n",
       " 'Discrimination',\n",
       " 'Délégation syndicale',\n",
       " 'Formation syndicale',\n",
       " 'Prime syndicale',\n",
       " \"Conseil d'entreprise\",\n",
       " \"Prime de fin d'année\",\n",
       " 'Prime unique',\n",
       " 'E-commerce',\n",
       " 'Sursalaire']"
      ]
     },
     "execution_count": 220,
     "metadata": {},
     "output_type": "execute_result"
    }
   ],
   "source": [
    "keys"
   ]
  },
  {
   "cell_type": "code",
   "execution_count": null,
   "metadata": {},
   "outputs": [],
   "source": []
  }
 ],
 "metadata": {
  "kernelspec": {
   "display_name": "Python 3",
   "language": "python",
   "name": "python3"
  },
  "language_info": {
   "codemirror_mode": {
    "name": "ipython",
    "version": 3
   },
   "file_extension": ".py",
   "mimetype": "text/x-python",
   "name": "python",
   "nbconvert_exporter": "python",
   "pygments_lexer": "ipython3",
   "version": "3.10.8"
  },
  "orig_nbformat": 4,
  "vscode": {
   "interpreter": {
    "hash": "aee8b7b246df8f9039afb4144a1f6fd8d2ca17a180786b69acc140d282b71a49"
   }
  }
 },
 "nbformat": 4,
 "nbformat_minor": 2
}
