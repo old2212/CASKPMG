{
 "cells": [
  {
   "attachments": {},
   "cell_type": "markdown",
   "metadata": {},
   "source": [
    "# SETUP"
   ]
  },
  {
   "cell_type": "code",
   "execution_count": 364,
   "metadata": {},
   "outputs": [],
   "source": [
    "import pandas as pd\n",
    "import re\n",
    "import json"
   ]
  },
  {
   "attachments": {},
   "cell_type": "markdown",
   "metadata": {},
   "source": [
    "# IMPORT + CREATE DF WITH MAPPING CLASSIFICATION TABLE"
   ]
  },
  {
   "cell_type": "code",
   "execution_count": 365,
   "metadata": {},
   "outputs": [
    {
     "data": {
      "text/html": [
       "<div>\n",
       "<style scoped>\n",
       "    .dataframe tbody tr th:only-of-type {\n",
       "        vertical-align: middle;\n",
       "    }\n",
       "\n",
       "    .dataframe tbody tr th {\n",
       "        vertical-align: top;\n",
       "    }\n",
       "\n",
       "    .dataframe thead th {\n",
       "        text-align: right;\n",
       "    }\n",
       "</style>\n",
       "<table border=\"1\" class=\"dataframe\">\n",
       "  <thead>\n",
       "    <tr style=\"text-align: right;\">\n",
       "      <th></th>\n",
       "      <th>Category</th>\n",
       "      <th>Class</th>\n",
       "      <th>Key words</th>\n",
       "    </tr>\n",
       "  </thead>\n",
       "  <tbody>\n",
       "    <tr>\n",
       "      <th>0</th>\n",
       "      <td>CLA type</td>\n",
       "      <td>Concluded on national level</td>\n",
       "      <td>www.cnt-nar.be</td>\n",
       "    </tr>\n",
       "    <tr>\n",
       "      <th>1</th>\n",
       "      <td>CLA type</td>\n",
       "      <td>Concluded on industry level</td>\n",
       "      <td>NaN</td>\n",
       "    </tr>\n",
       "    <tr>\n",
       "      <th>2</th>\n",
       "      <td>CLA status</td>\n",
       "      <td>New</td>\n",
       "      <td>NaN</td>\n",
       "    </tr>\n",
       "    <tr>\n",
       "      <th>3</th>\n",
       "      <td>CLA status</td>\n",
       "      <td>Update</td>\n",
       "      <td>erratum</td>\n",
       "    </tr>\n",
       "    <tr>\n",
       "      <th>4</th>\n",
       "      <td>Sector</td>\n",
       "      <td>INDUSTRIE DES CARRIERES</td>\n",
       "      <td>carrière</td>\n",
       "    </tr>\n",
       "  </tbody>\n",
       "</table>\n",
       "</div>"
      ],
      "text/plain": [
       "     Category                        Class       Key words\n",
       "0    CLA type  Concluded on national level  www.cnt-nar.be\n",
       "1    CLA type  Concluded on industry level             NaN\n",
       "2  CLA status                          New             NaN\n",
       "3  CLA status                       Update         erratum\n",
       "4      Sector      INDUSTRIE DES CARRIERES        carrière"
      ]
     },
     "execution_count": 365,
     "metadata": {},
     "output_type": "execute_result"
    }
   ],
   "source": [
    "#import the classification table\n",
    "df_mapping = pd.read_excel('Classification_excel.xlsx', index_col=None)\n",
    "df_mapping[\"Key words\"] = df_mapping[\"Key words\"].str.lower()\n",
    "df_mapping.head()\n"
   ]
  },
  {
   "cell_type": "code",
   "execution_count": 366,
   "metadata": {},
   "outputs": [],
   "source": [
    "#Create df for each of the 4 categories\n",
    "\n",
    "df_type = df_mapping.loc[df_mapping['Category'] == 'CLA type']\n",
    "df_status = df_mapping.loc[df_mapping['Category'] == 'CLA status']\n",
    "df_sector = df_mapping.loc[df_mapping['Category'] == 'Sector']\n",
    "df_theme = df_mapping.loc[df_mapping['Category'] == 'Theme']"
   ]
  },
  {
   "cell_type": "code",
   "execution_count": 367,
   "metadata": {},
   "outputs": [
    {
     "data": {
      "text/plain": [
       "'Concluded on industry level'"
      ]
     },
     "execution_count": 367,
     "metadata": {},
     "output_type": "execute_result"
    }
   ],
   "source": [
    "class_type_label_ind = df_type.loc[df_type['Key words'].isnull(), 'Class'].to_string(index=False)\n",
    "class_type_label_ind"
   ]
  },
  {
   "cell_type": "code",
   "execution_count": 368,
   "metadata": {},
   "outputs": [
    {
     "data": {
      "text/html": [
       "<div>\n",
       "<style scoped>\n",
       "    .dataframe tbody tr th:only-of-type {\n",
       "        vertical-align: middle;\n",
       "    }\n",
       "\n",
       "    .dataframe tbody tr th {\n",
       "        vertical-align: top;\n",
       "    }\n",
       "\n",
       "    .dataframe thead th {\n",
       "        text-align: right;\n",
       "    }\n",
       "</style>\n",
       "<table border=\"1\" class=\"dataframe\">\n",
       "  <thead>\n",
       "    <tr style=\"text-align: right;\">\n",
       "      <th></th>\n",
       "      <th>Category</th>\n",
       "      <th>Class</th>\n",
       "      <th>Key words</th>\n",
       "    </tr>\n",
       "  </thead>\n",
       "  <tbody>\n",
       "    <tr>\n",
       "      <th>2</th>\n",
       "      <td>CLA status</td>\n",
       "      <td>New</td>\n",
       "      <td>NaN</td>\n",
       "    </tr>\n",
       "    <tr>\n",
       "      <th>40</th>\n",
       "      <td>Sector</td>\n",
       "      <td>INDUSTRIE TEXTILE</td>\n",
       "      <td>textile</td>\n",
       "    </tr>\n",
       "  </tbody>\n",
       "</table>\n",
       "</div>"
      ],
      "text/plain": [
       "      Category              Class Key words\n",
       "2   CLA status                New       NaN\n",
       "40      Sector  INDUSTRIE TEXTILE   textile"
      ]
     },
     "execution_count": 368,
     "metadata": {},
     "output_type": "execute_result"
    }
   ],
   "source": [
    "#check duplicates in columns\n",
    "Duplicates = df_mapping[df_mapping.duplicated(\"Key words\")]\n",
    "Duplicates"
   ]
  },
  {
   "cell_type": "code",
   "execution_count": null,
   "metadata": {},
   "outputs": [],
   "source": []
  },
  {
   "attachments": {},
   "cell_type": "markdown",
   "metadata": {},
   "source": [
    "# CREATE LIST OF CLASS FOR EVERY PDF"
   ]
  },
  {
   "cell_type": "code",
   "execution_count": 369,
   "metadata": {},
   "outputs": [
    {
     "name": "stdout",
     "output_type": "stream",
     "text": [
      "['Concluded on industry level', 'New', 'Sector not specified', 'Salaire', 'Temps de travail', 'Recrutement et formation', \"Mesures pour l'emploi et groupes cibles\", 'Fin au contrat de travail et chômage', 'Fonds sociaux', \"Fonctionnement au sein du comité/de l'entreprise\", 'Primes et indemnités pour le travailleur actif']\n"
     ]
    }
   ],
   "source": [
    "# Create a dictionary for each pdf including the PDF number/the class for every category\n",
    "pdf_class = []\n",
    "pdf_txt = open('200/200-2018-013527_fr.txt', 'r')\n",
    "pdf_words = pdf_txt.read().lower()\n",
    "\n",
    "# Add the type to the list pdf_class\n",
    "class_type_label_cnt = df_type.loc[df_type['Key words'] == \"www.cnt-nar.be\", 'Class'].to_string(index=False)\n",
    "class_type_label_ind = df_type.loc[df_type['Key words'].isnull(), 'Class'].to_string(index=False)\n",
    "\n",
    "elements = df_type[\"Key words\"].dropna().tolist()\n",
    "for elem in elements :\n",
    "    if elem in pdf_words:\n",
    "        if class_type_label_cnt not in pdf_class :\n",
    "            pdf_class.append(class_type_label_cnt)\n",
    "            break\n",
    "    else : \n",
    "        if class_type_label_ind not in pdf_class :\n",
    "            pdf_class.append(class_type_label_ind)\n",
    "\n",
    "# print(pdf_class)\n",
    "\n",
    "# Add the status to the list pdf_class\n",
    "class_status_label_update = df_status.loc[df_status['Key words'] == \"erratum\", 'Class'].to_string(index=False)\n",
    "class_status_label_new = df_status.loc[df_status['Key words'].isnull(), 'Class'].to_string(index=False)\n",
    "\n",
    "elements = df_status[\"Key words\"].dropna().tolist()\n",
    "for elem in elements :\n",
    "    if elem in pdf_words:\n",
    "        if class_status_label_update not in pdf_class :\n",
    "            pdf_class.append(class_status_label_update)\n",
    "            break\n",
    "    else : \n",
    "        if class_status_label_new not in pdf_class :\n",
    "            pdf_class.append(class_status_label_new)\n",
    "\n",
    "# print(pdf_class)\n",
    "\n",
    "# Add the sector to the list pdf_class\n",
    "class_sector_label = df_sector['Class'].to_list()\n",
    "result_2 = []\n",
    "elements = df_sector[\"Key words\"].dropna().tolist()\n",
    "for elem in elements :\n",
    "    if elem in pdf_words:\n",
    "        result_2.append(True)\n",
    "    else : \n",
    "        result_2.append(False)\n",
    "\n",
    "if True in result_2 :\n",
    "    pdf_class.append(df_sector.loc[df_sector[\"Key words\"]== elem, \"Class\"].to_string(index=False))\n",
    "else :\n",
    "    if \"Sector not specified\" not in pdf_class :\n",
    "        pdf_class.append(\"Sector not specified\")\n",
    "\n",
    "# print(pdf_class)\n",
    "\n",
    "#Add the theme to the list pdf_class\n",
    "\n",
    "class_theme_label = df_theme['Class'].to_list()\n",
    "result_3 = []\n",
    "elements = df_theme[\"Key words\"].dropna().tolist()\n",
    "for elem in elements :\n",
    "    if elem in pdf_words:\n",
    "        result_3.append(True)\n",
    "    else : \n",
    "        result_3.append(False)\n",
    "\n",
    "if True in result_3 :\n",
    "    for elem in elements :\n",
    "        if elem in pdf_words :\n",
    "            if df_theme.loc[df_theme[\"Key words\"]== elem, \"Class\"].to_string(index=False) not in pdf_class :\n",
    "                pdf_class.append(df_theme.loc[df_theme[\"Key words\"]== elem, \"Class\"].to_string(index=False))\n",
    "else :\n",
    "    if \"Unknown_theme\" not in pdf_class :\n",
    "        pdf_class.append(\"Unknown_theme\")\n",
    "\n",
    "\n",
    "print(pdf_class)\n"
   ]
  },
  {
   "cell_type": "code",
   "execution_count": null,
   "metadata": {},
   "outputs": [],
   "source": []
  }
 ],
 "metadata": {
  "kernelspec": {
   "display_name": "Python 3",
   "language": "python",
   "name": "python3"
  },
  "language_info": {
   "codemirror_mode": {
    "name": "ipython",
    "version": 3
   },
   "file_extension": ".py",
   "mimetype": "text/x-python",
   "name": "python",
   "nbconvert_exporter": "python",
   "pygments_lexer": "ipython3",
   "version": "3.10.8"
  },
  "orig_nbformat": 4,
  "vscode": {
   "interpreter": {
    "hash": "aee8b7b246df8f9039afb4144a1f6fd8d2ca17a180786b69acc140d282b71a49"
   }
  }
 },
 "nbformat": 4,
 "nbformat_minor": 2
}
