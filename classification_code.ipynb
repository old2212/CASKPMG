{
 "cells": [
  {
   "attachments": {},
   "cell_type": "markdown",
   "metadata": {},
   "source": [
    "# DATA SETUP"
   ]
  },
  {
   "cell_type": "code",
   "execution_count": 437,
   "metadata": {},
   "outputs": [],
   "source": [
    "import pandas as pd\n",
    "import re\n",
    "import json"
   ]
  },
  {
   "attachments": {},
   "cell_type": "markdown",
   "metadata": {},
   "source": [
    "# IMPORT + CREATE DF"
   ]
  },
  {
   "cell_type": "code",
   "execution_count": 438,
   "metadata": {},
   "outputs": [
    {
     "data": {
      "text/html": [
       "<div>\n",
       "<style scoped>\n",
       "    .dataframe tbody tr th:only-of-type {\n",
       "        vertical-align: middle;\n",
       "    }\n",
       "\n",
       "    .dataframe tbody tr th {\n",
       "        vertical-align: top;\n",
       "    }\n",
       "\n",
       "    .dataframe thead th {\n",
       "        text-align: right;\n",
       "    }\n",
       "</style>\n",
       "<table border=\"1\" class=\"dataframe\">\n",
       "  <thead>\n",
       "    <tr style=\"text-align: right;\">\n",
       "      <th></th>\n",
       "      <th>Category</th>\n",
       "      <th>Class</th>\n",
       "      <th>Key words</th>\n",
       "    </tr>\n",
       "  </thead>\n",
       "  <tbody>\n",
       "    <tr>\n",
       "      <th>0</th>\n",
       "      <td>CLA type</td>\n",
       "      <td>Concluded on national level</td>\n",
       "      <td>Conseil national du travail</td>\n",
       "    </tr>\n",
       "    <tr>\n",
       "      <th>1</th>\n",
       "      <td>CLA type</td>\n",
       "      <td>Concluded on national level</td>\n",
       "      <td>www.cnt-nar.be</td>\n",
       "    </tr>\n",
       "    <tr>\n",
       "      <th>2</th>\n",
       "      <td>CLA type</td>\n",
       "      <td>Concluded on industry level</td>\n",
       "      <td>NaN</td>\n",
       "    </tr>\n",
       "    <tr>\n",
       "      <th>3</th>\n",
       "      <td>CLA status</td>\n",
       "      <td>New</td>\n",
       "      <td>NaN</td>\n",
       "    </tr>\n",
       "    <tr>\n",
       "      <th>4</th>\n",
       "      <td>CLA status</td>\n",
       "      <td>Update</td>\n",
       "      <td>erratum</td>\n",
       "    </tr>\n",
       "    <tr>\n",
       "      <th>5</th>\n",
       "      <td>CLA status</td>\n",
       "      <td>Update</td>\n",
       "      <td>correction</td>\n",
       "    </tr>\n",
       "    <tr>\n",
       "      <th>6</th>\n",
       "      <td>CLA status</td>\n",
       "      <td>Update</td>\n",
       "      <td>modifié</td>\n",
       "    </tr>\n",
       "    <tr>\n",
       "      <th>7</th>\n",
       "      <td>Sector</td>\n",
       "      <td>INDUSTRIE DES CARRIERES</td>\n",
       "      <td>CARRIERES</td>\n",
       "    </tr>\n",
       "    <tr>\n",
       "      <th>8</th>\n",
       "      <td>Sector</td>\n",
       "      <td>INDUSTRIE DE LA RECUPERATION</td>\n",
       "      <td>récupération</td>\n",
       "    </tr>\n",
       "    <tr>\n",
       "      <th>9</th>\n",
       "      <td>Sector</td>\n",
       "      <td>INDUSTRIE SIDERURGIQUE</td>\n",
       "      <td>SIDERURGIQUE</td>\n",
       "    </tr>\n",
       "  </tbody>\n",
       "</table>\n",
       "</div>"
      ],
      "text/plain": [
       "     Category                         Class                    Key words\n",
       "0    CLA type   Concluded on national level  Conseil national du travail\n",
       "1    CLA type   Concluded on national level               www.cnt-nar.be\n",
       "2    CLA type   Concluded on industry level                          NaN\n",
       "3  CLA status                           New                          NaN\n",
       "4  CLA status                        Update                      erratum\n",
       "5  CLA status                        Update                   correction\n",
       "6  CLA status                        Update                      modifié\n",
       "7      Sector       INDUSTRIE DES CARRIERES                    CARRIERES\n",
       "8      Sector  INDUSTRIE DE LA RECUPERATION                 récupération\n",
       "9      Sector        INDUSTRIE SIDERURGIQUE                 SIDERURGIQUE"
      ]
     },
     "execution_count": 438,
     "metadata": {},
     "output_type": "execute_result"
    }
   ],
   "source": [
    "#import the classification table\n",
    "df_mapping = pd.read_excel('Classification_excel.xlsx', index_col=None)\n",
    "df_mapping.head(10)\n"
   ]
  },
  {
   "cell_type": "code",
   "execution_count": 439,
   "metadata": {},
   "outputs": [],
   "source": [
    "#Create df for each of the 4 categories\n",
    "\n",
    "df_type = df_mapping.loc[df_mapping['Category'] == 'CLA type']\n",
    "df_status = df_mapping.loc[df_mapping['Category'] == 'CLA status']\n",
    "df_sector = df_mapping.loc[df_mapping['Category'] == 'Sector']\n",
    "df_theme = df_mapping.loc[df_mapping['Category'] == 'Theme']"
   ]
  },
  {
   "cell_type": "code",
   "execution_count": 440,
   "metadata": {},
   "outputs": [
    {
     "data": {
      "text/plain": [
       "'Concluded on industry level'"
      ]
     },
     "execution_count": 440,
     "metadata": {},
     "output_type": "execute_result"
    }
   ],
   "source": [
    "class_type_label_ind = df_type.loc[df_type['Key words'].isnull(), 'Class'].to_string(index=False)\n",
    "class_type_label_ind"
   ]
  },
  {
   "attachments": {},
   "cell_type": "markdown",
   "metadata": {},
   "source": [
    "# CREATE LIST OF CLASS FOR EVERY PDF"
   ]
  },
  {
   "cell_type": "code",
   "execution_count": 441,
   "metadata": {},
   "outputs": [
    {
     "name": "stdout",
     "output_type": "stream",
     "text": [
      "['Concluded on industry level']\n",
      "['Concluded on industry level', 'New']\n",
      "['Concluded on industry level', 'New', 'Unknown_sector', 'INDUSTRIE DE LA RECUPERATION']\n",
      "['Concluded on industry level', 'New', 'Unknown_sector', 'INDUSTRIE DE LA RECUPERATION', 'Unknown_theme']\n"
     ]
    }
   ],
   "source": [
    "# Create a dictionary for each pdf including the PDF number/the class for every category\n",
    "pdf_class = []\n",
    "pdf_txt = open('test_fr_013442.txt', 'r')\n",
    "pdf_words = pdf_txt.read()\n",
    "\n",
    "# Add the type to the list pdf_class\n",
    "class_type_label_cnt = df_type.loc[df_type['Key words'] == \"Conseil national du travail\", 'Class'].to_string(index=False)\n",
    "class_type_label_ind = df_type.loc[df_type['Key words'].isnull(), 'Class'].to_string(index=False)\n",
    "\n",
    "elements = df_type[\"Key words\"].dropna().tolist()\n",
    "for elem in elements :\n",
    "    if elem in pdf_words:\n",
    "        if class_type_label_cnt not in pdf_class :\n",
    "            pdf_class.append(class_type_label_cnt)\n",
    "            break\n",
    "    else : \n",
    "        if class_type_label_ind not in pdf_class :\n",
    "            pdf_class.append(class_type_label_ind)\n",
    "\n",
    "print(pdf_class)\n",
    "\n",
    "# Add the status to the list pdf_class\n",
    "class_status_label_update = df_status.loc[df_status['Key words'] == \"erratum\", 'Class'].to_string(index=False)\n",
    "class_status_label_new = df_status.loc[df_status['Key words'].isnull(), 'Class'].to_string(index=False)\n",
    "\n",
    "elements = df_status[\"Key words\"].dropna().tolist()\n",
    "for elem in elements :\n",
    "    if elem in pdf_words:\n",
    "        if class_status_label_update not in pdf_class :\n",
    "            pdf_class.append(class_status_label_update)\n",
    "            break\n",
    "    else : \n",
    "        if class_status_label_new not in pdf_class :\n",
    "            pdf_class.append(class_status_label_new)\n",
    "\n",
    "print(pdf_class)\n",
    "\n",
    "# Add the sector to the list pdf_class\n",
    "class_sector_label = df_sector['Class'].to_list()\n",
    "# --> correct if : if among any of the key words, one is equal to any of the words in the PDF - map it with the class name or if none then \"unknown\"\n",
    "[i for i in pdf_class if i in pdf_words]\n",
    "\n",
    "elements = df_sector[\"Key words\"].dropna().tolist()\n",
    "for elem in elements :\n",
    "    if elem in pdf_words:\n",
    "        for i in class_sector_label :\n",
    "            if i not in pdf_class :\n",
    "                pdf_class.append(df_sector.loc[df_sector[\"Key words\"]== elem, \"Class\"].to_string(index=False))\n",
    "            break\n",
    "    else :\n",
    "        if \"Unknown_sector\" not in pdf_class :\n",
    "            pdf_class.append(\"Unknown_sector\")\n",
    "\n",
    "print(pdf_class)\n",
    "\n",
    "# Add the theme to the list pdf_class\n",
    "class_theme_label = df_theme['Class'].to_list()\n",
    "\n",
    "elements = df_theme[\"Key words\"].dropna().tolist()\n",
    "for elem in elements :\n",
    "    if elem in pdf_words:\n",
    "        for i in class_theme_label :\n",
    "            if i not in pdf_class :\n",
    "                pdf_class.append(df_theme.loc[df_theme[\"Key words\"]== elem, \"Class\"].to_string(index=False))\n",
    "    else :\n",
    "        if \"Unknown_theme\" not in pdf_class :\n",
    "            pdf_class.append(\"Unknown_theme\")\n",
    "\n",
    "print(pdf_class)\n"
   ]
  }
 ],
 "metadata": {
  "kernelspec": {
   "display_name": "Python 3",
   "language": "python",
   "name": "python3"
  },
  "language_info": {
   "codemirror_mode": {
    "name": "ipython",
    "version": 3
   },
   "file_extension": ".py",
   "mimetype": "text/x-python",
   "name": "python",
   "nbconvert_exporter": "python",
   "pygments_lexer": "ipython3",
   "version": "3.10.8"
  },
  "orig_nbformat": 4,
  "vscode": {
   "interpreter": {
    "hash": "aee8b7b246df8f9039afb4144a1f6fd8d2ca17a180786b69acc140d282b71a49"
   }
  }
 },
 "nbformat": 4,
 "nbformat_minor": 2
}
